{
 "cells": [
  {
   "cell_type": "markdown",
   "metadata": {},
   "source": [
    "## Setup"
   ]
  },
  {
   "cell_type": "code",
   "execution_count": 2,
   "metadata": {},
   "outputs": [
    {
     "ename": "SyntaxError",
     "evalue": "invalid syntax (<ipython-input-2-85dab17c9eae>, line 4)",
     "output_type": "error",
     "traceback": [
      "\u001b[0;36m  File \u001b[0;32m\"<ipython-input-2-85dab17c9eae>\"\u001b[0;36m, line \u001b[0;32m4\u001b[0m\n\u001b[0;31m    from sympy.physics.secondquant\u001b[0m\n\u001b[0m                                  ^\u001b[0m\n\u001b[0;31mSyntaxError\u001b[0m\u001b[0;31m:\u001b[0m invalid syntax\n"
     ]
    }
   ],
   "source": [
    "import numpy as np\n",
    "import matplotlib.pyplot as plt\n",
    "from qutip import *\n",
    "from sympy.physics.secondquant\n",
    "from sympy.abs import x"
   ]
  },
  {
   "cell_type": "markdown",
   "metadata": {},
   "source": [
    "We consider free fermion chain with half filling. It has finite sites $L$ with open boundary conditions\n",
    "The Hamiltonians have the form\n",
    " $$\n",
    "\\left\\{\\begin{array}{l}\n",
    "H_{0}=\\frac{1}{2} \\sum_{i=1}^{L-1} c_{i}^{\\dagger} c_{i+1}+h . c . \\\\\n",
    "H_{1}=\\sum_{i=1}^{L-1} \\sin ^{2}\\left(\\frac{\\pi(i+1 / 2)}{L}\\right) c_{i}^{\\dagger} c_{i+1}+h . c .\n",
    "\\end{array}\\right.\n",
    "$$\n",
    "Now we denote the ground state as $|G\\rangle$ of $H_0$ and want to compute the correlation matrix $$\n",
    "\\left\\langle G\\left|c_{m}^{\\dagger} c_{n}\\right| G\\right\\rangle\n",
    "$$"
   ]
  }
 ],
 "metadata": {
  "kernelspec": {
   "display_name": "Python 3",
   "language": "python",
   "name": "python3"
  },
  "language_info": {
   "codemirror_mode": {
    "name": "ipython",
    "version": 3
   },
   "file_extension": ".py",
   "mimetype": "text/x-python",
   "name": "python",
   "nbconvert_exporter": "python",
   "pygments_lexer": "ipython3",
   "version": "3.8.5"
  }
 },
 "nbformat": 4,
 "nbformat_minor": 4
}
